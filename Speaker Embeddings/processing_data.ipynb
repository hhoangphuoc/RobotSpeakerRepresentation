{
 "cells": [
  {
   "cell_type": "code",
   "execution_count": 1,
   "metadata": {},
   "outputs": [],
   "source": [
    "import os\n",
    "import numpy as np\n",
    "import pandas as pd"
   ]
  },
  {
   "cell_type": "code",
   "execution_count": 2,
   "metadata": {},
   "outputs": [
    {
     "name": "stdout",
     "output_type": "stream",
     "text": [
      "c:\\Users\\hoang\\OneDrive\\Projects\\Personal\\Research\\Speaker Embeddings\\code\\fileprocessing\n"
     ]
    }
   ],
   "source": [
    "print(os.getcwd())"
   ]
  },
  {
   "cell_type": "code",
   "execution_count": null,
   "metadata": {},
   "outputs": [],
   "source": [
    "human_destination_path = os.path.join(os.getcwd(), 'embed_recordings', 'human') #path to write the human data.\n",
    "\n",
    "robot_destination_path = os.path.join(os.getcwd(), 'embed_recordings', 'robot') #path to write the robot data.\n",
    "\n",
    "source_path = os.path.join(os.getcwd(), 'embed_recordings', 'sources') #path to read the raw data from here."
   ]
  },
  {
   "cell_type": "markdown",
   "metadata": {},
   "source": [
    "## Processed Separate Dataset"
   ]
  },
  {
   "cell_type": "code",
   "execution_count": 2,
   "metadata": {},
   "outputs": [],
   "source": [
    "# convert all the raw wav files from different data sources, into the same name format:\n",
    "# speakerID_source_emotion.wav \n",
    "# and then write them into single csv file.\n",
    "\n",
    "# data that have emotion labeled: BEST (robot), EMOGIB (robot), Montreal (human), Vocalization Lima (human)\n",
    "# other: VENEC (human), Willow (robot), R2D2 (robot)\n"
   ]
  },
  {
   "cell_type": "code",
   "execution_count": null,
   "metadata": {},
   "outputs": [],
   "source": [
    "#EMOGIB data set, robot voices\n",
    "def process_EMOGIB(file_path, source_path):\n",
    "    pass"
   ]
  },
  {
   "cell_type": "code",
   "execution_count": null,
   "metadata": {},
   "outputs": [],
   "source": [
    "\n",
    "def process_Montreal(file_path, source_path):\n",
    "    pass"
   ]
  },
  {
   "cell_type": "markdown",
   "metadata": {},
   "source": [
    "## Group all dataset into human and robot"
   ]
  },
  {
   "cell_type": "code",
   "execution_count": null,
   "metadata": {},
   "outputs": [],
   "source": [
    "# human voices: Montreal, VENEC, Lima\n",
    "# robot voices: BEST, EMOGIB, Willow, R2D2\n",
    "source_locations = [\"BEST\",\"EMOGIB\",\"Montreal\", \"VENEC\", \"Lima\", \"Willow\",\"R2D2\"] # source locations is the location of different data source, including both human and robot data.\n",
    "\n",
    "\n",
    "# join all the data in different dataset into specific human and robot dataset.\n",
    "for location in source_locations:\n",
    "    source_file = os.path.join(source_path, location + \".csv\")\n",
    "    data = pd.read_csv(source_file)\n",
    "    print(data.head())\n",
    "    if location in [\"BEST\", \"EMOGIB\", \"Willow\", \"R2D2\"]:\n",
    "        data.to_csv(os.path.join(robot_destination_path, location + \".csv\"), index=False)\n",
    "    else:\n",
    "        data.to_csv(os.path.join(human_destination_path, location + \".csv\"), index=False)\n"
   ]
  }
 ],
 "metadata": {
  "kernelspec": {
   "display_name": "speaker-embeddings-venv",
   "language": "python",
   "name": "python3"
  },
  "language_info": {
   "codemirror_mode": {
    "name": "ipython",
    "version": 3
   },
   "file_extension": ".py",
   "mimetype": "text/x-python",
   "name": "python",
   "nbconvert_exporter": "python",
   "pygments_lexer": "ipython3",
   "version": "3.12.2"
  }
 },
 "nbformat": 4,
 "nbformat_minor": 2
}
